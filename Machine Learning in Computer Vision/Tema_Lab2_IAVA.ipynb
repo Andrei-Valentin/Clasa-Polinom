{
  "nbformat": 4,
  "nbformat_minor": 0,
  "metadata": {
    "colab": {
      "name": "Tema Lab2_IAVA.ipynb",
      "provenance": [],
      "collapsed_sections": []
    },
    "kernelspec": {
      "name": "python3",
      "display_name": "Python 3"
    },
    "widgets": {
      "application/vnd.jupyter.widget-state+json": {
        "ca39222bfcdf432a91e7d2518d440b91": {
          "model_module": "@jupyter-widgets/controls",
          "model_name": "HBoxModel",
          "state": {
            "_view_name": "HBoxView",
            "_dom_classes": [],
            "_model_name": "HBoxModel",
            "_view_module": "@jupyter-widgets/controls",
            "_model_module_version": "1.5.0",
            "_view_count": null,
            "_view_module_version": "1.5.0",
            "box_style": "",
            "layout": "IPY_MODEL_40fedd6ba1964b39acb1a2f4951bb7b9",
            "_model_module": "@jupyter-widgets/controls",
            "children": [
              "IPY_MODEL_b491395e3bc14fa2912547b5a36fc4a0",
              "IPY_MODEL_61e2f55d0870475aa39ac9591ab03160"
            ]
          }
        },
        "40fedd6ba1964b39acb1a2f4951bb7b9": {
          "model_module": "@jupyter-widgets/base",
          "model_name": "LayoutModel",
          "state": {
            "_view_name": "LayoutView",
            "grid_template_rows": null,
            "right": null,
            "justify_content": null,
            "_view_module": "@jupyter-widgets/base",
            "overflow": null,
            "_model_module_version": "1.2.0",
            "_view_count": null,
            "flex_flow": null,
            "width": null,
            "min_width": null,
            "border": null,
            "align_items": null,
            "bottom": null,
            "_model_module": "@jupyter-widgets/base",
            "top": null,
            "grid_column": null,
            "overflow_y": null,
            "overflow_x": null,
            "grid_auto_flow": null,
            "grid_area": null,
            "grid_template_columns": null,
            "flex": null,
            "_model_name": "LayoutModel",
            "justify_items": null,
            "grid_row": null,
            "max_height": null,
            "align_content": null,
            "visibility": null,
            "align_self": null,
            "height": null,
            "min_height": null,
            "padding": null,
            "grid_auto_rows": null,
            "grid_gap": null,
            "max_width": null,
            "order": null,
            "_view_module_version": "1.2.0",
            "grid_template_areas": null,
            "object_position": null,
            "object_fit": null,
            "grid_auto_columns": null,
            "margin": null,
            "display": null,
            "left": null
          }
        },
        "b491395e3bc14fa2912547b5a36fc4a0": {
          "model_module": "@jupyter-widgets/controls",
          "model_name": "FloatProgressModel",
          "state": {
            "_view_name": "ProgressView",
            "style": "IPY_MODEL_e58d631698cc400695fcbcd237739e3b",
            "_dom_classes": [],
            "description": "",
            "_model_name": "FloatProgressModel",
            "bar_style": "success",
            "max": 170498071,
            "_view_module": "@jupyter-widgets/controls",
            "_model_module_version": "1.5.0",
            "value": 170498071,
            "_view_count": null,
            "_view_module_version": "1.5.0",
            "orientation": "horizontal",
            "min": 0,
            "description_tooltip": null,
            "_model_module": "@jupyter-widgets/controls",
            "layout": "IPY_MODEL_ae5d29ebd537423eb8d3a6219f5a5c3a"
          }
        },
        "61e2f55d0870475aa39ac9591ab03160": {
          "model_module": "@jupyter-widgets/controls",
          "model_name": "HTMLModel",
          "state": {
            "_view_name": "HTMLView",
            "style": "IPY_MODEL_5f1a0151b61949c79f95bb9fef1ff90a",
            "_dom_classes": [],
            "description": "",
            "_model_name": "HTMLModel",
            "placeholder": "​",
            "_view_module": "@jupyter-widgets/controls",
            "_model_module_version": "1.5.0",
            "value": " 170499072/? [00:24&lt;00:00, 7082855.08it/s]",
            "_view_count": null,
            "_view_module_version": "1.5.0",
            "description_tooltip": null,
            "_model_module": "@jupyter-widgets/controls",
            "layout": "IPY_MODEL_1c3caeebf6de4ae49f2d024b3b6f11c8"
          }
        },
        "e58d631698cc400695fcbcd237739e3b": {
          "model_module": "@jupyter-widgets/controls",
          "model_name": "ProgressStyleModel",
          "state": {
            "_view_name": "StyleView",
            "_model_name": "ProgressStyleModel",
            "description_width": "initial",
            "_view_module": "@jupyter-widgets/base",
            "_model_module_version": "1.5.0",
            "_view_count": null,
            "_view_module_version": "1.2.0",
            "bar_color": null,
            "_model_module": "@jupyter-widgets/controls"
          }
        },
        "ae5d29ebd537423eb8d3a6219f5a5c3a": {
          "model_module": "@jupyter-widgets/base",
          "model_name": "LayoutModel",
          "state": {
            "_view_name": "LayoutView",
            "grid_template_rows": null,
            "right": null,
            "justify_content": null,
            "_view_module": "@jupyter-widgets/base",
            "overflow": null,
            "_model_module_version": "1.2.0",
            "_view_count": null,
            "flex_flow": null,
            "width": null,
            "min_width": null,
            "border": null,
            "align_items": null,
            "bottom": null,
            "_model_module": "@jupyter-widgets/base",
            "top": null,
            "grid_column": null,
            "overflow_y": null,
            "overflow_x": null,
            "grid_auto_flow": null,
            "grid_area": null,
            "grid_template_columns": null,
            "flex": null,
            "_model_name": "LayoutModel",
            "justify_items": null,
            "grid_row": null,
            "max_height": null,
            "align_content": null,
            "visibility": null,
            "align_self": null,
            "height": null,
            "min_height": null,
            "padding": null,
            "grid_auto_rows": null,
            "grid_gap": null,
            "max_width": null,
            "order": null,
            "_view_module_version": "1.2.0",
            "grid_template_areas": null,
            "object_position": null,
            "object_fit": null,
            "grid_auto_columns": null,
            "margin": null,
            "display": null,
            "left": null
          }
        },
        "5f1a0151b61949c79f95bb9fef1ff90a": {
          "model_module": "@jupyter-widgets/controls",
          "model_name": "DescriptionStyleModel",
          "state": {
            "_view_name": "StyleView",
            "_model_name": "DescriptionStyleModel",
            "description_width": "",
            "_view_module": "@jupyter-widgets/base",
            "_model_module_version": "1.5.0",
            "_view_count": null,
            "_view_module_version": "1.2.0",
            "_model_module": "@jupyter-widgets/controls"
          }
        },
        "1c3caeebf6de4ae49f2d024b3b6f11c8": {
          "model_module": "@jupyter-widgets/base",
          "model_name": "LayoutModel",
          "state": {
            "_view_name": "LayoutView",
            "grid_template_rows": null,
            "right": null,
            "justify_content": null,
            "_view_module": "@jupyter-widgets/base",
            "overflow": null,
            "_model_module_version": "1.2.0",
            "_view_count": null,
            "flex_flow": null,
            "width": null,
            "min_width": null,
            "border": null,
            "align_items": null,
            "bottom": null,
            "_model_module": "@jupyter-widgets/base",
            "top": null,
            "grid_column": null,
            "overflow_y": null,
            "overflow_x": null,
            "grid_auto_flow": null,
            "grid_area": null,
            "grid_template_columns": null,
            "flex": null,
            "_model_name": "LayoutModel",
            "justify_items": null,
            "grid_row": null,
            "max_height": null,
            "align_content": null,
            "visibility": null,
            "align_self": null,
            "height": null,
            "min_height": null,
            "padding": null,
            "grid_auto_rows": null,
            "grid_gap": null,
            "max_width": null,
            "order": null,
            "_view_module_version": "1.2.0",
            "grid_template_areas": null,
            "object_position": null,
            "object_fit": null,
            "grid_auto_columns": null,
            "margin": null,
            "display": null,
            "left": null
          }
        }
      }
    }
  },
  "cells": [
    {
      "cell_type": "markdown",
      "metadata": {
        "id": "qzgFBIRQ1YOc"
      },
      "source": [
        "Importarea bibliotecilor care vor fi folosite in acest laborator:\n",
        "\n",
        " * *matplotlib.pyplot* pentru grafice\n",
        " * *torch.optim* pentru optimizatori\n",
        " * *torch.nn* pentru lucrul cu retele neurale\n",
        " * *torch.utils.data* pentru lucrul cu seturi de date\n",
        " * *torchvision* pentru seturi de date oferite de repository-ul Pytorch"
      ]
    },
    {
      "cell_type": "code",
      "metadata": {
        "id": "L8uJfA201Bif"
      },
      "source": [
        "from IPython import display as dspl\n",
        "\n",
        "import time\n",
        "\n",
        "import numpy as np\n",
        "import matplotlib.pyplot as plt\n",
        "import torch\n",
        "import torch.optim as optim\n",
        "import torch.nn as nn\n",
        "import torch.utils.data as data\n",
        "import torchvision"
      ],
      "execution_count": null,
      "outputs": []
    },
    {
      "cell_type": "markdown",
      "metadata": {
        "id": "W7hHS0O7nI4y"
      },
      "source": [
        "## Dataset\n",
        "Clasa *torchvision.datasets.CIFAR10* este o subclasa a clasei abstracte *torch.utils.data.Dataset*. O astfel de clasa este folosita pentru a ingloba datasetul si pentru a returna elemente din dataset.\n",
        "\n",
        "O clasa derivata din *torch.utils.data.Dataset*, trebuie sa suprascrie 2 metode:\n",
        " * \\_\\_len\\_\\_(self) -> aceasta metoda returneaza numarul de elemente din dataset si permite folosirea functiei __len()__ din Python.\n",
        " * \\_\\_getitem\\_\\_ -> permite folosirea operatorului de indexare din Python __[ ]__ pentru a obtine un element de la un anumit index din dataset \n",
        "\n",
        "### Cerinte\n",
        "  1. Printati numarul de exemple din datasetul de antrenare si de test\n",
        "  2. Printati exemplul de la indexul 0\n",
        "  3. Printati valoarea maxima si valoarea minima din prima imagine din datasetul de test\n",
        "\n",
        "#### Hints\n",
        " * Un exemplu din dataset este reprezentat de un tuplu care contine o imagine de tip de date PIL.Image si un int reprezentand clasa imaginii\n",
        " * np.min(a) -> returneaza minimul dintr-un obiect de tipul np.ndarray\n",
        " * np.max(a) -> returneaza maximul dintr-un obiect de tipul np.ndarray\n",
        " * np.asarray(a) -> returneaza un obiect de tipul np.ndarray. Functia trebuie sa primeaca un obiect 'array-like'"
      ]
    },
    {
      "cell_type": "code",
      "metadata": {
        "id": "PvoP1C_3-3dA",
        "colab": {
          "base_uri": "https://localhost:8080/",
          "height": 200,
          "referenced_widgets": [
            "ca39222bfcdf432a91e7d2518d440b91",
            "40fedd6ba1964b39acb1a2f4951bb7b9",
            "b491395e3bc14fa2912547b5a36fc4a0",
            "61e2f55d0870475aa39ac9591ab03160",
            "e58d631698cc400695fcbcd237739e3b",
            "ae5d29ebd537423eb8d3a6219f5a5c3a",
            "5f1a0151b61949c79f95bb9fef1ff90a",
            "1c3caeebf6de4ae49f2d024b3b6f11c8"
          ]
        },
        "outputId": "70d287b6-c750-4b47-d069-8b79d6e4d88a"
      },
      "source": [
        "# Crearea instantelor pentru setul de date CIFAR de train si de test\n",
        "cifar_train = torchvision.datasets.CIFAR10(\"./data\", download=True)\n",
        "cifar_test = torchvision.datasets.CIFAR10(\"./data\", train=False)\n",
        "\n",
        "#TODO: Scrieti aici codul pentru cerinta numarul 1\n",
        "print(len(cifar_train))\n",
        "print(len(cifar_test))\n",
        "\n",
        "#TODO: Scrieti aici codul pentru cerinta numarul 2\n",
        "print(cifar_train[0])\n",
        "print(cifar_test[0])\n",
        "\n",
        "#TODO: Completati sub codul pentru cerinta numarul 3\n",
        "print(np.min(cifar_test[0][0]))\n",
        "print(np.max(cifar_test[0][0]))\n"
      ],
      "execution_count": null,
      "outputs": [
        {
          "output_type": "stream",
          "text": [
            "Downloading https://www.cs.toronto.edu/~kriz/cifar-10-python.tar.gz to ./data/cifar-10-python.tar.gz\n"
          ],
          "name": "stdout"
        },
        {
          "output_type": "display_data",
          "data": {
            "application/vnd.jupyter.widget-view+json": {
              "model_id": "ca39222bfcdf432a91e7d2518d440b91",
              "version_minor": 0,
              "version_major": 2
            },
            "text/plain": [
              "HBox(children=(FloatProgress(value=0.0, max=170498071.0), HTML(value='')))"
            ]
          },
          "metadata": {
            "tags": []
          }
        },
        {
          "output_type": "stream",
          "text": [
            "\n",
            "Extracting ./data/cifar-10-python.tar.gz to ./data\n",
            "50000\n",
            "10000\n",
            "(<PIL.Image.Image image mode=RGB size=32x32 at 0x7F2C95496C10>, 6)\n",
            "(<PIL.Image.Image image mode=RGB size=32x32 at 0x7F2C954968D0>, 3)\n",
            "13\n",
            "255\n"
          ],
          "name": "stdout"
        }
      ]
    },
    {
      "cell_type": "markdown",
      "metadata": {
        "id": "XO0Ju49dp_xp"
      },
      "source": [
        "## Iterare prin Dataset\n",
        "\n",
        "Deoarece clasa datasetului implementeaza functia \\_\\_getitem\\_\\_(), se poate itera prin dataset cum se poate itera si printr-o lista sau alt obiect iterabil. \n",
        "\n",
        "### Cerinte\n",
        " * Odata la n pasi, printati clasa exemplului curent si afisati imaginea.\n",
        "\n",
        "#### Hints\n",
        "  * A fost importata libraria matplotlib.pyplot as plt\n",
        "  * Functia plt.figure(figsize=(float, float)) returneaza o figura de dimensiunea oferita ca parametru in *figsize*\n",
        "  * Functia plt.imshow(np.ndarray) plaseaza o imagine pe o figura\n",
        "  * Functia plt.show() afiseaza figura"
      ]
    },
    {
      "cell_type": "code",
      "metadata": {
        "id": "9v_DcyDBHVQu",
        "colab": {
          "base_uri": "https://localhost:8080/",
          "height": 1000
        },
        "outputId": "aaf7a0aa-0da8-4393-c265-028fa8816401"
      },
      "source": [
        "n = 10000\n",
        "\n",
        "for idx, example in enumerate(cifar_train):\n",
        "  if idx % n == 0:\n",
        "    # Aceasta functie sterge ce a fost afisat pana la momentul curent\n",
        "    dspl.clear_output(wait=True)\n",
        "    \n",
        "    #TODO: Completati codul aici si afisati cateva imagini din dataset\n",
        "    print(example[1])\n",
        "    plt.figure(figsize=(32,32))\n",
        "    plt.imshow(example[0])\n",
        "    plt.show()\n",
        "    \n",
        "    # Aceasta functie opreste procesul pentru 2 secunde \n",
        "    time.sleep(2)"
      ],
      "execution_count": null,
      "outputs": [
        {
          "output_type": "stream",
          "text": [
            "1\n"
          ],
          "name": "stdout"
        },
        {
          "output_type": "display_data",
          "data": {
            "image/png": "[encoded data removed]",
            "text/plain": [
              "<Figure size 2304x2304 with 1 Axes>"
            ]
          },
          "metadata": {
            "tags": [],
            "needs_background": "light"
          }
        }
      ]
    },
    {
      "cell_type": "markdown",
      "metadata": {
        "id": "Iud_GoZJwK9U"
      },
      "source": [
        "## DataLoader\n",
        "\n",
        "In torch.utils.data este definita clasa *DataLoader*. Aceasta este un wrapper peste o clasa de tip Dataset si este folosita pentru a abstractiza procesarea pe mai mult threaduri, concatenarea exemplelor in batch-uri, si extragerea exemplelor in mod aleatoriu din dataset.\n",
        "\n",
        "Pentru a crea un obiect de tip *DataLoader* se foloseste constructorul care are urmatorul header:\n",
        "\n",
        "  \\_\\_init\\_\\_(dataset_object, batch_size=1, shuffle=False, num_workers=0, collate_fn=None)\n",
        "\n",
        " * dataset_object - obiectul de tip Dataset care va fi inglobat\n",
        " * batch_size - dimensiunea batch-ului care va fi returnat\n",
        " * shuffle - determina daca exemplele vor fi extrase aleatoriu sau nu\n",
        " * num_workers - numarul de procese paralele care vor incarca datele\n",
        " * collate_fn - o functie care face preprocesari pe N elemente returnate de obiectul de tip Dataset si le concateneaza intr-un batch. N = batch_size\n",
        "\n",
        "Clasa DataLoader implementeaza si functia *\\_\\_len\\_\\_()* pentru a returna numarul de batch-uri din dataset.\n",
        "\n",
        "Obiectul de tip Dataset creat anterior returneaza un tuple-uri care contin o imagine de tip PIL.Image si clasa imaginii de tip int. O retea neurala din Pytorch opereaza pe tipul de date torch.Tensor. Prin urmare obiectul de tip DataLoader trebuie sa returneze obiecte de tip torch.Tensor \n",
        "\n",
        "### Cerinte\n",
        "  1. Iterati prin cele doua obiecte de tip DataLoader si printati doar primul element.\n",
        "  2. Printati shape-ul celor 2 tensori  doar pentru primul element\n",
        "\n",
        "#### Hints\n",
        "  * functia __to_tensor__ din *torchvision.transforms.functional* creaza un obiect de tip torch.Tensor dintr-un obiect de tip PIL.Image\n",
        "  * functia __torch.tensor__ creaza un obiect de tip torch.Tensor dintr-un obiect de tip np.ndarray\n",
        "  * functia __unsqueeze()__ din clasa torch.Tensor creaza o noua dimensiune intr-un tensor. Aceasta este echivalentul functiei __expand_dims()__ din numpy. Exemplu: Daca avem un obiect de tip torch.Tensor, *t*, care contine un vector cu 10 elemente (shape [10]), *t.unsqueeze(0)* va returna un boiect cu aceleasi valori dar cu shape-ul [1, 10]\n",
        "  * functia __torch.cat(tensors, dim=0)__ primeste o lista de tensori si ii concateneaza de-a lungul dimensiunii *dim*. Exemplu: functia primeste o lista cu doi vectori cu shape-ul [1, 10] si *dim=0*, rezultatul are shape-ul [2, 10] (batch 2 ?). Daca *dim=1*, rezultatul va fi [1, 20]. Echivalentul numpy este functia __concatenate()__\n",
        "  * functia __size()__ din clasa torch.Tensor returneaza shape-ul tensorului"
      ]
    },
    {
      "cell_type": "code",
      "metadata": {
        "id": "8C_MvX_MIYMv",
        "colab": {
          "base_uri": "https://localhost:8080/",
          "height": 1000
        },
        "outputId": "0270648b-68f3-4254-c4b8-d03fd5fb305a"
      },
      "source": [
        "from torchvision.transforms.functional import to_tensor\n",
        "\n",
        "def preproc_fn(examples):\n",
        "  \"\"\"\n",
        "    Functia primeste un batch de exemple pe care trebuie sa le transforme in tensori\n",
        "      si sa le puna intr-un batch de tip torch.Tensor.\n",
        "  \"\"\"\n",
        "  processed_images = []\n",
        "  processed_labels = []\n",
        "\n",
        "  print(processed_images)\n",
        "\n",
        "  for example in examples: # example este un tuplu returnat de obiectul de tip Dataset\n",
        "    pil_image = example[0]\n",
        "    #pil_image_array = np.asarray(pil_image)\n",
        "\n",
        "    tensor_image = to_tensor(pil_image)  # Transformati in obiect de tip torch.Tensor imaginea din example\n",
        "    tensor_image = tensor_image.unsqueeze(0) # Adaugati inca o dimensiune la inceputul imaginii\n",
        "    processed_images.append(tensor_image)\n",
        "\n",
        "    label = np.array([example[1]])# Creati un obiect de tip np.ndarray din labelul exemplului\n",
        "    tensor_label = torch.Tensor(label)# Creati un tip de tip torch.Tensor din label\n",
        "    tensor_label = tensor_label.unsqueeze(0) # Adaugati inca o dimensiune la incepului labelului\n",
        "    processed_labels.append(tensor_label)\n",
        "\n",
        "  torch_images = torch.cat(processed_images,  dim=0)\n",
        "  torch_labels = torch.cat(processed_labels, dim=0)\n",
        "\n",
        "  return torch_images, torch_labels\n",
        "\n",
        "loader1 = data.DataLoader(cifar_train, batch_size=1000, shuffle=True, collate_fn=preproc_fn)\n",
        "\n",
        "print(\"Datasetul contine {} de batch-uri\".format(len(loader1)))\n",
        "\n",
        "loader2 = data.DataLoader(cifar_train, batch_size=1000, shuffle=True, num_workers=2, collate_fn=preproc_fn)\n",
        "\n",
        "start = time.time()\n",
        "\n",
        "for index, el in enumerate(loader1):\n",
        "  #TODO: Cerintele 1 si 2 - Iterati prin loader1 si printati doar primul element si shape-ul celor 2 tensori din exemplu\n",
        "  if index == 0:\n",
        "    plt.imshow(np.transpose(el[0][0],(1,2,0)))\n",
        "    plt.show()\n",
        "    t0 = el[0][0].clone().detach()\n",
        "    t1 = el[1][0].clone().detach()\n",
        "    for i in range(1,1000):\n",
        "      t0 = torch.cat((t0,el[0][i].clone().detach()), dim=0)\n",
        "      t1 = torch.cat((t1,el[1][i].clone().detach()), dim=0)\n",
        "    print(t0.size())\n",
        "    print(t1.size())\n",
        "  \n",
        "\n",
        "end = time.time()\n",
        "print(\"Iterarea prin dataset cu worker-ul pe procesul curent dureaza {} secunde\".format(end - start))\n",
        "\n",
        "start = time.time()\n",
        "\n",
        "for index, el in enumerate(loader2):\n",
        "  #TODO: Cerintele 1 si 2 - Iterati prin loader2 si printati doar primul element si shape-ul celor 2 tensori din exemplu\n",
        "  if index == 0:\n",
        "    plt.imshow(np.transpose(el[0][0],(1,2,0)))\n",
        "    plt.show()\n",
        "    t2 = el[0][0].clone().detach()\n",
        "    t3 = el[1][0].clone().detach()\n",
        "    for i in range(1,1000):\n",
        "      t2 = torch.cat((t2,el[0][i].clone().detach()), dim=0)\n",
        "      t3 = torch.cat((t3,el[1][i].clone().detach()), dim=0)\n",
        "    print(t2.size())\n",
        "    print(t3.size())\n",
        "\n",
        "end = time.time()\n",
        "print(\"Iterarea prin dataset cu 2 worker-i pe procese diferinte dureaza {} secunde\".format(end - start))"
      ],
      "execution_count": null,
      "outputs": [
        {
          "output_type": "stream",
          "text": [
            "Datasetul contine 50 de batch-uri\n",
            "[]\n"
          ],
          "name": "stdout"
        },
        {
          "output_type": "display_data",
          "data": {
            "image/png": "[encoded data removed]",
            "text/plain": [
              "<Figure size 432x288 with 1 Axes>"
            ]
          },
          "metadata": {
            "tags": [],
            "needs_background": "light"
          }
        },
        {
          "output_type": "stream",
          "text": [
            "torch.Size([3000, 32, 32])\n",
            "torch.Size([1000])\n",
            "[]\n",
            "[]\n",
            "[]\n",
            "[]\n",
            "[]\n",
            "[]\n",
            "[]\n",
            "[]\n",
            "[]\n",
            "[]\n",
            "[]\n",
            "[]\n",
            "[]\n",
            "[]\n",
            "[]\n",
            "[]\n",
            "[]\n",
            "[]\n",
            "[]\n",
            "[]\n",
            "[]\n",
            "[]\n",
            "[]\n",
            "[]\n",
            "[]\n",
            "[]\n",
            "[]\n",
            "[]\n",
            "[]\n",
            "[]\n",
            "[]\n",
            "[]\n",
            "[]\n",
            "[]\n",
            "[]\n",
            "[]\n",
            "[]\n",
            "[]\n",
            "[]\n",
            "[]\n",
            "[]\n",
            "[]\n",
            "[]\n",
            "[]\n",
            "[]\n",
            "[]\n",
            "[]\n",
            "[]\n",
            "[]\n",
            "Iterarea prin dataset cu worker-ul pe procesul curent dureaza 7.668014287948608 secunde\n",
            "[]\n",
            "[]\n",
            "[]\n",
            "[]\n",
            "[]\n"
          ],
          "name": "stdout"
        },
        {
          "output_type": "display_data",
          "data": {
            "image/png": "[encoded data removed]",
            "text/plain": [
              "<Figure size 432x288 with 1 Axes>"
            ]
          },
          "metadata": {
            "tags": [],
            "needs_background": "light"
          }
        },
        {
          "output_type": "stream",
          "text": [
            "[]\n",
            "[]\n",
            "torch.Size([3000, 32, 32])\n",
            "torch.Size([1000])\n",
            "[]\n",
            "[]\n",
            "[]\n",
            "[]\n",
            "[]\n",
            "[]\n",
            "[]\n",
            "[]\n",
            "[]\n",
            "[]\n",
            "[]\n",
            "[]\n",
            "[]\n",
            "[]\n",
            "[]\n",
            "[]\n",
            "[]\n",
            "[]\n",
            "[]\n",
            "[]\n",
            "[]\n",
            "[]\n",
            "[]\n",
            "[]\n",
            "[]\n",
            "[]\n",
            "[]\n",
            "[]\n",
            "[]\n",
            "[]\n",
            "[]\n",
            "[]\n",
            "[]\n",
            "[]\n",
            "[]\n",
            "[]\n",
            "[]\n",
            "[]\n",
            "[]\n",
            "[]\n",
            "[]\n",
            "[]\n",
            "[]\n",
            "Iterarea prin dataset cu 2 worker-i pe procese diferinte dureaza 7.631401300430298 secunde\n"
          ],
          "name": "stdout"
        }
      ]
    },
    {
      "cell_type": "markdown",
      "metadata": {
        "id": "oaJ0EJXOIAjR"
      },
      "source": [
        "## Definirea unei retele cu un singur layer\n",
        "\n",
        "Modulul *torch.nn* contine clase si functii utilitare pentru crearea retelelor neurale. Pentru a crea o retea neurala se va defini o clasa, *SingleLayerNet* ce mosteneste din clasa *torch.nn.Module*. Clasele din Pytorch ce definesc straturi, functii de activare, si functii cost mostenesc din clasa *torch.nn.Module*. Aceste clase implementeaza metoda **forward()** care este folosita pentru a defini ce se intampla la un forward pass. Aceasta metoda este apelata in metoda __\\_\\_call\\_\\_()__ a clasei.\n",
        "\n",
        "Clasa *Linear* din *troch.nn*, ce mosteneste din *nn.Module* defineste un strat 'fully-connected'. Contructorul primeste 3 parametrii:\n",
        " * Dimensiunea vectorului de intrare\n",
        " * Dimensiunea vectorului de iesire\n",
        " * Daca sa se foloseasca *bias* sau nu\n",
        "\n",
        "Clasa Simgoid din *torch.nn* , ce mosteneste din *nn.Module*, defineste o functie de activare sigmoid.\n",
        "\n",
        "### Cerinte\n",
        "  1. In constructorul clasei *SingleLayerNet* definiti un atribut care sa contina un obiect de tip *nn.Linear*\n",
        "  2. In constructorul clase *SingleLayerNet* definiti un atribut care sa contina un obiect de tip *nn.Sigmoid*\n",
        "  3. In metoda __forward()__ definiti o variabila care sa contina iesirea stratului linear aplicat pe intrarea 'x'.\n",
        "  4. In metoda __forward()__ definiti o variabila care sa contina iesirea functiei de activare sigmoid aplicata pe iesirea stratului linear si returnati aceasta variabila\n",
        "\n",
        "#### Hint\n",
        " * Imaginea de intrare are dimensiune 32x32x3 (inaltime x latime x canale). Vectorul de intrare in retea va avea dimensiune 3072.\n",
        "\n",
        "#### Atentie\n",
        " * Dimensiunea de iesire a stratului trebuie sa fie de aceeasi marime cu numarul de clase."
      ]
    },
    {
      "cell_type": "code",
      "metadata": {
        "id": "2vL3FhX5Xi2j"
      },
      "source": [
        "import torch.nn as nn\n",
        "\n",
        "class SingleLayerNet(nn.Module):\n",
        "\n",
        "  def __init__(self):\n",
        "    super(SingleLayerNet, self).__init__()\n",
        "\n",
        "    #TODO: Cerinta 1 - completati codul aici\n",
        "    self.linear1 = nn.Linear(3072, 10)\n",
        "    \n",
        "    #TODO: Cerinta 2 - completati codul aici\n",
        "    self.activation1 = nn.Sigmoid()\n",
        "\n",
        "  def forward(self, x: torch.Tensor):\n",
        "    #TODO: Cerinta 3 si 4 - completati codul aici\n",
        "    #output_linear = inputul x trecut prin self.linear1\n",
        "    output_linear = self.linear1(x)\n",
        "    #output = output_linear trecut prin functia de activare\n",
        "    output = self.activation1(output_linear)\n",
        "    return output\n",
        "\n"
      ],
      "execution_count": null,
      "outputs": []
    },
    {
      "cell_type": "markdown",
      "metadata": {
        "id": "eB7O0mVkG231"
      },
      "source": [
        "# Definirea unei retele cu doua straturi (layere).\n",
        "\n",
        "### Cerinte\n",
        "  1. In constructorul clasei *TwoLayerNet* definiti doua atribute care sa contina doua obiecte de tip *nn.Linear*. \n",
        "  2. In constructorul clasei *TwoLayerNet* definiti un atribut care sa contina un obiect de tip *nn.Sigmoid* (se poate folosi acelasi obiect de tip *nn.Sigmoid* pentru activarea ambelor straturi *nn.Linear*)\n",
        "  3. Implementati metoda **forward()** similar cu exercitul anterior (layer1->activation->layer2->activation).\n",
        "\n"
      ]
    },
    {
      "cell_type": "code",
      "metadata": {
        "id": "SVAxeNFXHURH"
      },
      "source": [
        "class TwoLayerNet(nn.Module):\n",
        "\n",
        "  def __init__(self):\n",
        "    super(TwoLayerNet, self).__init__()\n",
        "    # Cerinta 1 - completati codul aici\n",
        "    self.linear1 = nn.Linear(3072, 1536)\n",
        "    self.linear2 = nn.Linear(1536, 10)\n",
        "\n",
        "    # Cerinta 2 - completati codul aici\n",
        "    self.activation1 = nn.Sigmoid()\n",
        "\n",
        "  def forward(self, x: torch.Tensor):\n",
        "    # Cerinta 3 si 4- completati codul aici\n",
        "    output_linear1 = self.linear1(x)\n",
        "    output0 = self.activation1(output_linear)\n",
        "    print(output0.shape)\n",
        "\n",
        "    output_linear2 = self.linear1(output0)\n",
        "    output = self.activation1(output_linear2)\n",
        "    print(output.shape)\n",
        "    return output\n",
        "    "
      ],
      "execution_count": null,
      "outputs": []
    },
    {
      "cell_type": "markdown",
      "metadata": {
        "id": "7ZNoELFZrRpC"
      },
      "source": [
        "## Preprocesare pentru retele cu straturi 'fully-connected'\n",
        "\n",
        "Avand o retea cu straturi 'fully-connected' este necesar ca imaginea sa fie redimensionata intr-un vector. Clasa *torch.Tensor* defineste metoda __view()__ care returneaza un tensor redimensionat.\n",
        "\n",
        "### Cerinte\n",
        "  1. Completati functia de mai jos pentru a redimensiona imaginea intr-un vector.\n",
        "  2. Extrageti un batch din DataLoader-ul de antrenare si printati dimensiunile imaginii."
      ]
    },
    {
      "cell_type": "code",
      "metadata": {
        "id": "ctqQtdWgW-7V",
        "colab": {
          "base_uri": "https://localhost:8080/"
        },
        "outputId": "8e11e4bf-aca9-4146-9e0b-e79e1fe50206"
      },
      "source": [
        "from torchvision.transforms.functional import normalize\n",
        "\n",
        "def preproc_liniarized_fn(examples):\n",
        "  processed_images = []\n",
        "  processed_labels = []\n",
        "\n",
        "  for example in examples:\n",
        "    tensor_image = to_tensor(example[0])\n",
        "    # In linia de mai jos imaginea este normalizata astfel incat sa aiba toate valorile in \n",
        "    # [-1, 1] in loc de [0, 255]\n",
        "    normalized_tensor_image = normalize(tensor_image, [0.5, 0.5, 0.5], [0.5, 0.5, 0.5])\n",
        "    #TODO: Cerinta 1 - completati codul aici \n",
        "    vector_image = normalized_tensor_image.view(1,-1)\n",
        "\n",
        "    vector_image = vector_image.unsqueeze(0)\n",
        "    processed_images.append(vector_image)\n",
        "    \n",
        "    label = np.array(example[1])\n",
        "    tensor_label = torch.tensor(label)\n",
        "    tensor_label = tensor_label.unsqueeze(0)\n",
        "    processed_labels.append(tensor_label)\n",
        "\n",
        "  torch_images = torch.cat(processed_images, dim=0)\n",
        "  torch_labels = torch.cat(processed_labels, dim=0)\n",
        "\n",
        "  return torch_images, torch_labels\n",
        "\n",
        "batch_size = 100\n",
        "\n",
        "train_loader = data.DataLoader(cifar_train, batch_size=batch_size, shuffle=True, num_workers=2, collate_fn=preproc_liniarized_fn)\n",
        "test_loader = data.DataLoader(cifar_test, batch_size=1, shuffle=False, collate_fn=preproc_liniarized_fn)\n",
        "\n",
        "#TODO: Cerinta 2 - completati codul aici\n",
        "batch = next(iter(train_loader))  \n",
        "print(batch[0][0].shape)\n",
        "\n",
        "\n"
      ],
      "execution_count": null,
      "outputs": [
        {
          "output_type": "stream",
          "text": [
            "torch.Size([1, 3072])\n"
          ],
          "name": "stdout"
        }
      ]
    },
    {
      "cell_type": "markdown",
      "metadata": {
        "id": "YzQgrTWBvvPN"
      },
      "source": [
        "## Definirea antrenarii\n",
        "\n",
        "Pentru definirea antrenarii avem urmatorii pasi:\n",
        " * Definirea numarului de epoci (de cate ori parcurgem intregul dataset)\n",
        " * Definirea obiectului de tip *SingleLayerNet*\n",
        " * Definirea optimizatorului. Vom folosi Stochastic Gradient Descent (SGD) pentru optimizarea retelei, prin urmare definim un obiect de tip *optim.SGD*. Constructorul acestei clase primeste parametrii pe care trebuie sa-i optimizeze (single_layer_net.parameters()) si rata de invatare (lr=1e-2)\n",
        " * Definim functia cost de tip *nn.CrossEntropyLoss()*\n",
        " * Definim functa care parcurge datasetul si antreneaza reteaua."
      ]
    },
    {
      "cell_type": "code",
      "metadata": {
        "id": "eqAWKYNqZeuS"
      },
      "source": [
        "import torch.optim as optim\n",
        "\n",
        "# Definim numarul de epoci\n",
        "epochs = 10\n",
        "\n",
        "# Definim reteaua\n",
        "single_layer_net = SingleLayerNet()\n",
        "\n",
        "# Definim optimizatorul\n",
        "optimizer = optim.SGD(single_layer_net.parameters(), lr=1e-2)\n",
        "# Dupa definirea optimizatorului si dupa fiecare iteratie trebuie apelata functia zero_grad().\n",
        "# Aceasta face toti gradientii zero.\n",
        "optimizer.zero_grad()\n",
        "\n",
        "# Definim functia cost\n",
        "loss_fn = nn.CrossEntropyLoss()\n",
        "\n",
        "def train_fn(epochs: int, train_loader: data.DataLoader, test_loader: data.DataLoader, \n",
        "             net: nn.Module, loss_fn: nn.Module, optimizer: optim.Optimizer):\n",
        "  # Iteram prin numarul de epoci\n",
        "  for e in range(epochs):\n",
        "    # Iteram prin fiecare exemplu din dataset\n",
        "    for images, labels in train_loader:\n",
        "\n",
        "      # Aplicam reteaua neurala pe imaginile de intrare\n",
        "      out = net(images)\n",
        "      ### Out trebuie sa aiba shape-ul [100,10] ca sa functioneze\n",
        "      out = out.squeeze()\n",
        "      # Aplicam functia cost pe iesirea retelei neurale si pe adnotarile imaginilor \n",
        "      loss = loss_fn(out, labels)\n",
        "      # Aplicam algoritmul de back-propagation\n",
        "      loss.backward()\n",
        "      # Facem pasul de optimizare, pentru a aplica gradientii pe parametrii retelei\n",
        "      optimizer.step()\n",
        "      # Apelam functia zero_grad() pentru a uita gradientii de la iteratie curenta\n",
        "      optimizer.zero_grad()\n",
        "    \n",
        "    print(\"Loss-ul la finalul epocii {} are valoarea {}\".format(e, loss.item()))\n",
        "\n",
        "    # Calculul acuratetii\n",
        "    count = len(test_loader)\n",
        "    correct = 0\n",
        "\n",
        "    for test_image, test_label in test_loader:\n",
        "      out_class = torch.argmax(net(test_image))\n",
        "      if out_class == test_label:\n",
        "        correct += 1\n",
        "\n",
        "    print(\"Acuratetea la finalul epocii {} este {:.2f}%\".format(e, (correct / count) * batch_size))"
      ],
      "execution_count": null,
      "outputs": []
    },
    {
      "cell_type": "markdown",
      "metadata": {
        "id": "tE-xJ2b52Dw9"
      },
      "source": [
        "## Antrenam propria retea"
      ]
    },
    {
      "cell_type": "code",
      "metadata": {
        "id": "Pwo4dQ9b_AxM",
        "colab": {
          "base_uri": "https://localhost:8080/"
        },
        "outputId": "9575fbc9-350a-4458-d51f-571f87bc68e9"
      },
      "source": [
        "train_fn(epochs, train_loader, test_loader, single_layer_net, loss_fn, optimizer)"
      ],
      "execution_count": null,
      "outputs": [
        {
          "output_type": "stream",
          "text": [
            "Loss-ul la finalul epocii 0 are valoarea 2.0125412940979004\n",
            "Acuratetea la finalul epocii 0 este 37.21%\n",
            "Loss-ul la finalul epocii 1 are valoarea 2.007659673690796\n",
            "Acuratetea la finalul epocii 1 este 37.30%\n",
            "Loss-ul la finalul epocii 2 are valoarea 1.9927061796188354\n",
            "Acuratetea la finalul epocii 2 este 37.47%\n",
            "Loss-ul la finalul epocii 3 are valoarea 2.0527706146240234\n",
            "Acuratetea la finalul epocii 3 este 37.42%\n",
            "Loss-ul la finalul epocii 4 are valoarea 2.056950569152832\n",
            "Acuratetea la finalul epocii 4 este 37.54%\n",
            "Loss-ul la finalul epocii 5 are valoarea 2.0023300647735596\n",
            "Acuratetea la finalul epocii 5 este 37.55%\n",
            "Loss-ul la finalul epocii 6 are valoarea 2.0335123538970947\n",
            "Acuratetea la finalul epocii 6 este 37.48%\n",
            "Loss-ul la finalul epocii 7 are valoarea 2.0277745723724365\n",
            "Acuratetea la finalul epocii 7 este 37.40%\n",
            "Loss-ul la finalul epocii 8 are valoarea 2.0166683197021484\n",
            "Acuratetea la finalul epocii 8 este 37.45%\n",
            "Loss-ul la finalul epocii 9 are valoarea 2.0172884464263916\n",
            "Acuratetea la finalul epocii 9 este 37.56%\n"
          ],
          "name": "stdout"
        }
      ]
    },
    {
      "cell_type": "markdown",
      "metadata": {
        "id": "JAGFBjaD2Ji6"
      },
      "source": [
        "## Definirea unei retele cu 2 straturi si antrenarea ei\n",
        "\n",
        "### Cerinte\n",
        " 1. Instantiati un obiect de tip *TwoLayerNet*.\n",
        " 2. Definiti un optimizator pentru antrenarea acestei retele\n",
        " 3. Folositi functia deifnita mai sus pentru a antrena aceasta retea (*train_fn*).\n",
        "\n",
        "#### Atentie\n",
        " * Dimensiunea de iesire a primului strat trebuie sa se potriveasca cu dimensiunea de intrare a celui de-al doilea."
      ]
    },
    {
      "cell_type": "code",
      "metadata": {
        "id": "nZbXpt9KI6yT",
        "colab": {
          "base_uri": "https://localhost:8080/"
        },
        "outputId": "de7fbd57-187c-4f68-e680-da6482e2ed02"
      },
      "source": [
        "#TODO: Cerinta 1 - completati codul aici\n",
        "# Instantierea retelei\n",
        "two_layer_net = TwoLayerNet()\n",
        "\n",
        "#TODO: Cerinta 2 - completati codul aici\n",
        "optimizer2 = optim.SGD(two_layer_net.parameters(), lr=1e-2)\n",
        "# Dupa definirea optimizatorului si dupa fiecare iteratie trebuie apelata functia zero_grad().\n",
        "# Aceasta face toti gradientii zero.\n",
        "optimizer2.zero_grad()\n",
        "\n",
        "# Definim functia de cost\n",
        "loss_fn2 = nn.CrossEntropyLoss()\n",
        "\n",
        "#TODO: Cerinta 3 - Antrenati reteaua\n",
        "train_fn(epochs, train_loader, test_loader, single_layer_net, loss_fn, optimizer)"
      ],
      "execution_count": null,
      "outputs": [
        {
          "output_type": "stream",
          "text": [
            "Loss-ul la finalul epocii 0 are valoarea 2.1300606727600098\n",
            "Acuratetea la finalul epocii 0 este 32.28%\n",
            "Loss-ul la finalul epocii 1 are valoarea 2.070918083190918\n",
            "Acuratetea la finalul epocii 1 este 33.58%\n",
            "Loss-ul la finalul epocii 2 are valoarea 2.1175103187561035\n",
            "Acuratetea la finalul epocii 2 este 33.97%\n",
            "Loss-ul la finalul epocii 3 are valoarea 2.1332991123199463\n",
            "Acuratetea la finalul epocii 3 este 34.67%\n",
            "Loss-ul la finalul epocii 4 are valoarea 2.020686388015747\n",
            "Acuratetea la finalul epocii 4 este 34.95%\n",
            "Loss-ul la finalul epocii 5 are valoarea 2.0341379642486572\n",
            "Acuratetea la finalul epocii 5 este 35.27%\n",
            "Loss-ul la finalul epocii 6 are valoarea 2.0348925590515137\n",
            "Acuratetea la finalul epocii 6 este 35.71%\n",
            "Loss-ul la finalul epocii 7 are valoarea 2.0808446407318115\n",
            "Acuratetea la finalul epocii 7 este 35.98%\n",
            "Loss-ul la finalul epocii 8 are valoarea 2.063171148300171\n",
            "Acuratetea la finalul epocii 8 este 36.09%\n",
            "Loss-ul la finalul epocii 9 are valoarea 2.0289597511291504\n",
            "Acuratetea la finalul epocii 9 este 36.31%\n"
          ],
          "name": "stdout"
        }
      ]
    },
    {
      "cell_type": "markdown",
      "metadata": {
        "id": "ICxUifGp3PY1"
      },
      "source": [
        "## Crearea dinamica a unei retele\n",
        "\n",
        "In  *torch.nn* exista clasa *Sequential* care primeste o lista de straturi si functii de activare in ordinea in care trebuie aplicate, e.g. [linear, sigmoid, linear, sigmoid]. Rezultatul este inlantuirea acestor straturi si functii de activare.\n"
      ]
    },
    {
      "cell_type": "code",
      "metadata": {
        "id": "vekIJr0pjfcv"
      },
      "source": [
        "class Net(nn.Module):\n",
        "\n",
        "  def __init__(self, layer_sizes: list, activation: type):\n",
        "    \"\"\"\n",
        "      Constructor.\n",
        "\n",
        "      :param layer_sizes - Parametru de tip lista care contine dimensiunile fiecarui strat din retea\n",
        "      :param activation - Parametru de tip type. Poate fi nn.Sigmoid, nn.Tanh, nn.ReLU. Adica clasa pentru a instantia mai tarziu\n",
        "    \"\"\"\n",
        "    super(Net, self).__init__()\n",
        "    \n",
        "    #\n",
        "    layers = []\n",
        "   \n",
        "    for i in range(0, len(layer_sizes)):\n",
        "      inl, out = layer_sizes[i]\n",
        "      layers.append(nn.Linear(inl, out))\n",
        "      layers.append(activation)\n",
        "\n",
        "    self.net = nn.Sequential(*layers)\n",
        "\n",
        "  def forward(self, x: torch.Tensor):\n",
        "    return self.net(x)"
      ],
      "execution_count": null,
      "outputs": []
    },
    {
      "cell_type": "markdown",
      "metadata": {
        "id": "3RTE0XJg5ppw"
      },
      "source": [
        "## [BONUS] Antrenarea retelei cu N straturi\n",
        "\n",
        "Mai jos functia de antrenare a fost modificata pentru a afisa modificarile parametrilor retelei in timpul antrenarii. Aceasta se obtine prin implementarea functiei __plot_weights()__.\n",
        "\n",
        "### Cerinte \n",
        "\n",
        "  1. Creati un obiect de tipul *Net*\n",
        "  2. Creati un optimizator pentru reteaua de tipul *Net*\n",
        "  3. Antrenati reteaua folosind functia __plotting_train_fn()__\n",
        "  4. Experimentati cu retele straturi si functii de activare diferite\n",
        "  5. Modificati celula de mai jos si scrieti o functie numita __plot_loss()__ pentru a afisa un grafic care arata evolutia rezultatului functiei cost in timp. Faceti acelasi lucru si pentru acuratete."
      ]
    },
    {
      "cell_type": "code",
      "metadata": {
        "id": "jZ8vr8fjoEs-"
      },
      "source": [
        "def plot_weights(net: nn.Module):\n",
        "  named_params = net.named_parameters()\n",
        "  np_params = []\n",
        "  np_param_names = []\n",
        "  for name, param in named_params:\n",
        "    np_params.append(param.clone().detach().view(-1).numpy())\n",
        "    np_param_names.append(name)\n",
        "\n",
        "  fig = plt.figure(figsize=(20, 2.5))\n",
        "\n",
        "  count = len(np_param_names)\n",
        "  for i in range(count):\n",
        "    plt.subplot(1, count, i+1)\n",
        "    plt.hist(np_params[i], bins=25)\n",
        "    plt.title(np_param_names[i])\n",
        "  plt.show()\n",
        "\n",
        "\n",
        "def plotting_train_fn(epochs: int, train_loader: data.DataLoader, test_loader: data.DataLoader, \n",
        "             net: nn.Module, loss_fn: nn.Module, optimizer: optim.Optimizer):\n",
        "  for e in range(epochs):\n",
        "    for images, labels in train_loader:\n",
        "\n",
        "      out = net(images)\n",
        "      loss = loss_fn(out, labels)\n",
        "      loss.backward()\n",
        "      optimizer.step()\n",
        "      optimizer.zero_grad()\n",
        "    \n",
        "    print(\"Loss-ul la finalul epocii {} are valoarea {}\".format(e, loss.item()))\n",
        "\n",
        "    count = len(test_loader)\n",
        "    correct = 0\n",
        "\n",
        "    for test_image, test_label in test_loader:\n",
        "      out_class = torch.argmax(net(test_image))\n",
        "      if out_class == test_label:\n",
        "        correct += 1\n",
        "    \n",
        "    print(\"Acuratetea la finalul epocii {} este {:.2f}%\".format(e, (correct / count) * 100))\n",
        "    plot_weights(net)\n",
        "\n",
        "# Cerinta 1 - completati codul aici\n",
        "\n",
        "# Cerinta 2 - completati codul aici\n",
        "\n",
        "# Cerinta 3 - completati codul aici\n",
        "\n",
        "# Cerinta 5 - completati codul aici\n"
      ],
      "execution_count": null,
      "outputs": []
    }
  ]
}