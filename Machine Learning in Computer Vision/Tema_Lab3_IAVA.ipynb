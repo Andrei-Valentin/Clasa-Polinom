{
  "nbformat": 4,
  "nbformat_minor": 0,
  "metadata": {
    "colab": {
      "name": "(Incompleta) Tema Lab3_IAVA.ipynb",
      "provenance": [],
      "collapsed_sections": [],
      "toc_visible": true
    },
    "kernelspec": {
      "name": "python3",
      "display_name": "Python 3"
    }
  },
  "cells": [
    {
      "cell_type": "code",
      "metadata": {
        "id": "5HWqK9mqHxgB",
        "colab": {
          "base_uri": "https://localhost:8080/"
        },
        "outputId": "6861a9dc-1795-444e-9648-23f67ce63755"
      },
      "source": [
        "import numpy as np\n",
        "import torch.nn as nn\n",
        "import torch\n",
        "\n",
        "dummy_input_tensor = torch.rand((1,3,100,100))  # Input random de marime 100x100 cu 3 canale\n",
        "\n",
        "layer = nn.Conv2d(in_channels=3, out_channels=10, kernel_size=(3,3), stride=(2,2))\n",
        "print(\"Conv1 result shape\",layer(dummy_input_tensor).shape)\n",
        "\n",
        "layer = nn.Conv2d(in_channels=3, out_channels=10, kernel_size=(13,13), stride=(2,2))\n",
        "print(\"Conv2 result shape\",layer(dummy_input_tensor).shape)\n",
        "\n",
        "layer = nn.MaxPool2d(kernel_size=(3,3)) # Stride este inferat din kernel size, ca fiind egal cu kernel size ca sa nu repete elementele luate\n",
        "print(\"Pool result shape\",layer(dummy_input_tensor).shape)\n",
        "\n",
        "# Utilizate pentru a reduce dimensiunea la una prestabilita, util cand marimea input ului este variabil\n",
        "layer = nn.AdaptiveAvgPool2d(output_size=(5,5))\n",
        "print(\"Global Pool result shape\",layer(dummy_input_tensor).shape)\n",
        "\n",
        "layer = nn.Flatten()\n",
        "print(\"Flaten result shape\",layer(dummy_input_tensor).shape)"
      ],
      "execution_count": null,
      "outputs": [
        {
          "output_type": "stream",
          "text": [
            "Conv1 result shape torch.Size([1, 10, 49, 49])\n",
            "Conv2 result shape torch.Size([1, 10, 44, 44])\n",
            "Pool result shape torch.Size([1, 3, 33, 33])\n",
            "Global Pool result shape torch.Size([1, 3, 5, 5])\n",
            "Flaten result shape torch.Size([1, 30000])\n"
          ],
          "name": "stdout"
        }
      ]
    },
    {
      "cell_type": "markdown",
      "metadata": {
        "id": "GOTmqyCxJ3fk"
      },
      "source": [
        "###Cerinte\n",
        "\n",
        "**(1p)** Utilizati o serie de Conv2D/Pool2D pentru a ajunge la urmatoarele marimi plecand de la input 3x100x100:\n",
        "*   [1, 10, 24, 24]\n",
        "*   [1, 10, 9, 9]\n",
        "*  [1, 3, 2, 2]\n",
        "\n"
      ]
    },
    {
      "cell_type": "code",
      "metadata": {
        "id": "7HtEeXbeKeKu",
        "colab": {
          "base_uri": "https://localhost:8080/"
        },
        "outputId": "baf5b7f8-271f-483a-abcd-b1950d5d9869"
      },
      "source": [
        "import numpy as np\n",
        "import torch.nn as nn\n",
        "import torch\n",
        "\n",
        "dummy_input_tensor = torch.rand((1,3,100,100))  # Input random de marime 100x100 cu 3 canale\n",
        "#1\n",
        "layer = nn.Conv2d(in_channels=3, out_channels=10, kernel_size=(30,30), stride=(3,3))\n",
        "print(\"Conv1 result shape\",layer(dummy_input_tensor).shape)\n",
        "#2\n",
        "layer = nn.Conv2d(in_channels=3, out_channels=10, kernel_size=(60,60), stride=(5,5))\n",
        "print(\"Conv2 result shape\",layer(dummy_input_tensor).shape)\n",
        "#3\n",
        "layer = nn.AdaptiveAvgPool2d(output_size=(2,2))\n",
        "print(\"Global Pool result shape\",layer(dummy_input_tensor).shape)"
      ],
      "execution_count": null,
      "outputs": [
        {
          "output_type": "stream",
          "text": [
            "Conv1 result shape torch.Size([1, 10, 24, 24])\n",
            "Conv2 result shape torch.Size([1, 10, 9, 9])\n",
            "Global Pool result shape torch.Size([1, 3, 2, 2])\n"
          ],
          "name": "stdout"
        }
      ]
    },
    {
      "cell_type": "markdown",
      "metadata": {
        "id": "yvdPtetggm61"
      },
      "source": [
        "## Instantierea seturilor de date"
      ]
    },
    {
      "cell_type": "code",
      "metadata": {
        "id": "czyIhYt5gmUQ",
        "colab": {
          "base_uri": "https://localhost:8080/"
        },
        "outputId": "7324e119-2150-49fb-c9c9-1603dc56beeb"
      },
      "source": [
        "import torchvision\n",
        "\n",
        "cifar_train = torchvision.datasets.CIFAR10(\"./data\", download=True)\n",
        "cifar_test = torchvision.datasets.CIFAR10(\"./data\", train=False)"
      ],
      "execution_count": null,
      "outputs": [
        {
          "output_type": "stream",
          "text": [
            "Files already downloaded and verified\n"
          ],
          "name": "stdout"
        }
      ]
    },
    {
      "cell_type": "markdown",
      "metadata": {
        "id": "FOA4ted_hHdB"
      },
      "source": [
        "## Crearea Dataloader-ului\n",
        "\n",
        "### Cerinte\n",
        " * **(2p)** Implementati functia de preprocesare a datelor, __preproc_fn(examples)__.\n",
        "\n",
        "\n",
        "Atentie! Spre deosebire de intrarea pentru retelele fully-connected, pentru retelele convolutionale intrearea nu trebuie liniarizata, ci doar normalizata.\n",
        "\n",
        "#### Hint\n",
        "\n",
        "  * Amintiti-va folosirea functiei __normalize__ din torchvision.transforms.functional din laboratorul trecut.\n",
        "  * Modificati functia *preproc_fn* din laboratorul trecut, pentru a normaliza datele in intervalul [-1, 1]"
      ]
    },
    {
      "cell_type": "code",
      "metadata": {
        "id": "uGHfd229hRyR"
      },
      "source": [
        "import torch\n",
        "import numpy as np\n",
        "##\n",
        "import torch.utils.data as data \n",
        "##\n",
        "from torch.utils.data import DataLoader\n",
        "from torchvision.transforms.functional import to_tensor, normalize\n",
        "\n",
        "def preproc_fn(examples):\n",
        "  ### Completati codul pentru cerinta aici\n",
        "  processed_images = []\n",
        "  processed_labels = []\n",
        "\n",
        "  for example in examples:\n",
        "    tensor_image = to_tensor(example[0])\n",
        "    normalized_tensor_image = normalize(tensor_image, [0.5, 0.5, 0.5], [0.5, 0.5, 0.5])\n",
        "\n",
        "    processed_images.append(normalized_tensor_image)\n",
        "    \n",
        "    label = np.array(example[1])\n",
        "    tensor_label = torch.tensor(label)\n",
        "    tensor_label = tensor_label.unsqueeze(0)\n",
        "    processed_labels.append(tensor_label)\n",
        "\n",
        "  torch_images = torch.cat(processed_images, dim=0)\n",
        "  torch_labels = torch.cat(processed_labels, dim=0)\n",
        "\n",
        "  return torch_images, torch_labels\n",
        "  return examples\n",
        "\n",
        "\n",
        "train_loader = DataLoader(cifar_train, batch_size=500, shuffle=True, num_workers=2, collate_fn=preproc_fn)\n",
        "test_loader = DataLoader(cifar_test, batch_size=1, shuffle=False, collate_fn=preproc_fn)"
      ],
      "execution_count": null,
      "outputs": []
    },
    {
      "cell_type": "markdown",
      "metadata": {
        "id": "cnV6PIC1kQMi"
      },
      "source": [
        "## Crearea unei retele neurale convolutionale\n",
        "\n",
        "### Cerinte\n",
        " * **(1p)** Creati o clasa care mosteneste clasa nn.Module. Ea va reprezenta o retea neurala convolutionala pentru clasificare ale celor 10 clase din datasetul CIFAR10.\n",
        "    * Reteaua trebuie sa aiba 2 straturi convolutionale care sa reduca dimensiunea spatiala a imaginii de 2 ori\n",
        "    * Liniarizati iesirea din cel de-al doilea strat convolutional\n",
        "    * Adaugat stratul final de tipul 'fully-connected'\n",
        "    * Folositi o functie de activare la alegere\n",
        "\n",
        "#### Hint\n",
        "\n",
        "Pentru a liniariza iesirea din cel de-al doilea feature map puteti adopta mai multe strategii:\n",
        "  * Liniarizare prin schimbarea shape-ului la [batch_size, -1]\n",
        "  * Global Max Pooling si apoi liniarizare la [batch_size, -1]\n",
        "  * Average Max Pooling si apoi liniarizare la [batch_size, -1]"
      ]
    },
    {
      "cell_type": "code",
      "metadata": {
        "id": "u1Ddc7D-lAEN"
      },
      "source": [
        "import torch.nn as nn\n",
        "import torch.nn.functional as F\n",
        "\n",
        "class Net(nn.Module):\n",
        "  def __init__(self):\n",
        "    super(Net, self).__init__()\n",
        "\n",
        "    self.conv1 = nn.Conv2d(in_channels=3, out_channels=6, kernel_size=(3,3), stride=(2,2))\n",
        "    self.conv2 = nn.Conv2d(in_channels=6, out_channels=16, kernel_size=(3,3), stride=(2,2))\n",
        "\n",
        "    self.linear1 = nn.Linear(16*7*7, 120)\n",
        "    self.linear2 = nn.Linear(120, 84)\n",
        "    self.out = nn.Linear(84,10)\n",
        "\n",
        "    self.activation1 = nn.Tanh()\n",
        "\n",
        "  def forward(self,x):\n",
        "    x = self.conv1(x)\n",
        "    x = self.activation1(x)\n",
        "\n",
        "    x = self.conv2(x)\n",
        "    x = self.activation1(x)\n",
        "\n",
        "    x = x.reshape(x.shape[0], -1)\n",
        "    \n",
        "    x = self.linear1(x)\n",
        "    x = self.activation1(x)\n",
        "\n",
        "    x = self.linear2(x)\n",
        "    x = self.activation1(x)\n",
        "\n",
        "    out = self.out(x)\n",
        "    out = self.activation1(out)\n",
        "\n",
        "    return out\n",
        "    \"\"\"\n",
        "  def __init__(self):\n",
        "    super(Net, self).__init__()\n",
        "\n",
        "    self.conv1 = nn.Conv2d(3, 6, 3)\n",
        "    self.conv2 = nn.Conv2d(6, 16, 3)\n",
        "\n",
        "    self.fc1 = nn.Linear(16 * 6 * 6, 120)  \n",
        "    self.fc2 = nn.Linear(120, 84)\n",
        "    self.fc3 = nn.Linear(84, 10)\n",
        "\n",
        "  def forward(self, x):\n",
        "    x = F.max_pool2d(F.relu(self.conv1(x)), 2)\n",
        "\n",
        "    x = F.max_pool2d(F.relu(self.conv2(x)), 2)\n",
        "\n",
        "    x = x.view(-1, self.num_flat_features(x))\n",
        "\n",
        "    x = F.relu(self.fc1(x))\n",
        "\n",
        "    x = F.relu(self.fc2(x))\n",
        "\n",
        "    x = self.fc3(x)\n",
        "    return x\n",
        "\n",
        "  def num_flat_features(self, x):\n",
        "    size = x.size()[1:]  # all dimensions except the batch dimension\n",
        "    num_features = 1\n",
        "    for s in size:\n",
        "      num_features *= s\n",
        "    return num_features    \n",
        "    \"\"\""
      ],
      "execution_count": null,
      "outputs": []
    },
    {
      "cell_type": "markdown",
      "metadata": {
        "id": "wK0Z9NeYTghv"
      },
      "source": [
        "## Definirea obiectelor folosite in timpul antrenarii\n",
        "\n",
        "### Cerinte **(1p)**\n",
        "  * Numarul de epoci\n",
        "  * Retea\n",
        "  * Optimizator\n",
        "  * Alegeti functia de cost"
      ]
    },
    {
      "cell_type": "code",
      "metadata": {
        "id": "Az3WKQdpod34"
      },
      "source": [
        "import torch.optim as optim\n",
        "\n",
        "# Definiti numarul de epoci\n",
        "epochs = 10\n",
        "\n",
        "# Definiti reteaua\n",
        "network = Net()\n",
        "\n",
        "# Definiti optimizatorul\n",
        "optimizer = optim.SGD(network.parameters(), lr=1e-2)\n",
        "# Dupa definirea optimizatorului si dupa fiecare iteratie trebuie apelata functia zero_grad().\n",
        "# Aceasta face toti gradientii zero.\n",
        "# Completati codul pentru a face gradientii zero aici\n",
        "optimizer.zero_grad()\n",
        "\n",
        "\n",
        "# Definiti functia cost pentru clasificare Cross-Entropy\n",
        "loss_fn = nn.CrossEntropyLoss()\n"
      ],
      "execution_count": null,
      "outputs": []
    },
    {
      "cell_type": "markdown",
      "metadata": {
        "id": "GAnUsWYWodb4"
      },
      "source": [
        "## Definirea functiei de antrenare"
      ]
    },
    {
      "cell_type": "code",
      "metadata": {
        "id": "K9MTYanoMZ8H"
      },
      "source": [
        "def train_fn(epochs: int, train_loader: data.DataLoader, test_loader: data.DataLoader, \n",
        "             net: nn.Module, loss_fn: nn.Module, optimizer: optim.Optimizer):\n",
        "  # Iteram prin numarul de epoci\n",
        "  for e in range(epochs):\n",
        "    # Iteram prin fiecare exemplu din dataset\n",
        "    for images, labels in train_loader:\n",
        "\n",
        "      # Aplicam reteaua neurala pe imaginile de intrare\n",
        "      images = np.reshape(images, (500,3,32,32))\n",
        "      out = net(images)\n",
        "      # Aplicam functia cost pe iesirea retelei neurale si pe adnotarile imaginilor \n",
        "      loss = loss_fn(out, labels)\n",
        "      # Aplicam algoritmul de back-propagation\n",
        "      loss.backward()\n",
        "      # Facem pasul de optimizare, pentru a aplica gradientii pe parametrii retelei\n",
        "      optimizer.step()\n",
        "      # Apelam functia zero_grad() pentru a uita gradientii de la iteratie curenta\n",
        "      optimizer.zero_grad()\n",
        "    \n",
        "    print(\"Loss-ul la finalul epocii {} are valoarea {}\".format(e, loss.item()))\n",
        "\n",
        "    # Caluculul acuratetii\n",
        "    count = len(test_loader)\n",
        "    correct = 0\n",
        "\n",
        "    for test_image, test_label in test_loader:\n",
        "      test_image = np.reshape(test_image, (1,3,32,32))\n",
        "      out_class = torch.argmax(net(test_image))\n",
        "      if out_class == test_label:\n",
        "        correct += 1\n",
        "\n",
        "    print(\"Acuratetea la finalul epocii {} este {:.2f}%\".format(e, (correct / count) * 100))"
      ],
      "execution_count": null,
      "outputs": []
    },
    {
      "cell_type": "markdown",
      "metadata": {
        "id": "OWvb00A-TkJq"
      },
      "source": [
        "\n",
        "## Antrenarea\n",
        "\n",
        "### Cerinte\n",
        "  * Antrenati reteaua definita mai sus (clasa Net)"
      ]
    },
    {
      "cell_type": "code",
      "metadata": {
        "id": "ZqUwOWmDMpqQ",
        "colab": {
          "base_uri": "https://localhost:8080/"
        },
        "outputId": "965ad8b6-404c-46c3-de9e-aeb87e4daeb9"
      },
      "source": [
        "train_fn(epochs, train_loader, test_loader, network, loss_fn, optimizer)"
      ],
      "execution_count": null,
      "outputs": [
        {
          "output_type": "stream",
          "text": [
            "Loss-ul la finalul epocii 0 are valoarea 2.289318084716797\n",
            "Acuratetea la finalul epocii 0 este 16.47%\n",
            "Loss-ul la finalul epocii 1 are valoarea 2.245211362838745\n",
            "Acuratetea la finalul epocii 1 este 19.99%\n",
            "Loss-ul la finalul epocii 2 are valoarea 2.1588380336761475\n",
            "Acuratetea la finalul epocii 2 este 23.53%\n",
            "Loss-ul la finalul epocii 3 are valoarea 2.1145517826080322\n",
            "Acuratetea la finalul epocii 3 este 25.22%\n",
            "Loss-ul la finalul epocii 4 are valoarea 2.1176843643188477\n",
            "Acuratetea la finalul epocii 4 este 26.44%\n",
            "Loss-ul la finalul epocii 5 are valoarea 2.071138620376587\n",
            "Acuratetea la finalul epocii 5 este 27.46%\n",
            "Loss-ul la finalul epocii 6 are valoarea 2.063682794570923\n",
            "Acuratetea la finalul epocii 6 este 28.34%\n",
            "Loss-ul la finalul epocii 7 are valoarea 2.026707410812378\n",
            "Acuratetea la finalul epocii 7 este 28.79%\n",
            "Loss-ul la finalul epocii 8 are valoarea 2.002866268157959\n",
            "Acuratetea la finalul epocii 8 este 29.19%\n",
            "Loss-ul la finalul epocii 9 are valoarea 2.0210671424865723\n",
            "Acuratetea la finalul epocii 9 este 29.47%\n"
          ],
          "name": "stdout"
        }
      ]
    },
    {
      "cell_type": "markdown",
      "metadata": {
        "id": "zmVavwztTZkz"
      },
      "source": [
        "## Reteaua LeNet\n",
        "\n",
        "### Cerinte\n",
        "  * **(3p)** Implementati reteaua LeNet dupa figura de mai jos si antrenati-o\n",
        "\n",
        "\n",
        "![alt text](https://drive.google.com/uc?id=1OVancUyIViMRMZdULFSVCvXJHQP0NGUV)\n",
        "\n",
        "Figura arhitectura LeNet\n",
        "\n",
        "![alt text](https://debuggercafe.com/wp-content/uploads/2019/07/Layers-in-LeNet.png)\n",
        "\n",
        "Tabel arhitectura LeNet\n"
      ]
    },
    {
      "cell_type": "code",
      "metadata": {
        "id": "zoe1vbggO-4U"
      },
      "source": [
        "import torch.nn as nn\n",
        "\n",
        "class LeNet(nn.Module):\n",
        "  def __init__(self):\n",
        "    super(LeNet, self).__init__()\n",
        "    self.layer1 = nn.Conv2d(in_channels=3, out_channels= 6, kernel_size=(5,5), stride=(1,1))\n",
        "    self.layer2 = nn.AvgPool2d(kernel_size = 2, stride = 2)\n",
        "    self.layer3 = nn.Conv2d(in_channels=6, out_channels= 16, kernel_size=(5,5), stride=(1,1))\n",
        "    self.layer4 = nn.AvgPool2d(kernel_size = 2, stride = 2)\n",
        "    self.layer5 = nn.Conv2d(in_channels=16, out_channels= 120, kernel_size=(5,5), stride=(1,1))\n",
        "    self.layer6 = nn.Linear(120,84)\n",
        "    self.output = nn.Linear(84,10)\n",
        "    \n",
        "    self.activation1 = nn.Tanh()\n",
        "    self.activation2 = nn.Softmax()\n",
        "\n",
        "\n",
        "  def forward(self,x):\n",
        "    x = self.layer1(x)\n",
        "    x = self.activation1(x)\n",
        "\n",
        "    x = self.layer2(x)\n",
        "    x = self.activation1(x)\n",
        "\n",
        "    x = self.layer3(x)\n",
        "    x = self.activation1(x)\n",
        "\n",
        "    x = self.layer4(x)\n",
        "    x = self.activation1(x)\n",
        "\n",
        "    x = self.layer5(x)\n",
        "    x = self.activation1(x)\n",
        "\n",
        "    x = x.reshape(x.shape[0], -1)\n",
        "    \n",
        "    x = self.layer6(x)\n",
        "    x = self.activation1(x)\n",
        "\n",
        "    x = self.output(x)\n",
        "    x = self.activation2(x)\n",
        "    return x"
      ],
      "execution_count": null,
      "outputs": []
    },
    {
      "cell_type": "markdown",
      "metadata": {
        "id": "J0XPmGrEol9M"
      },
      "source": [
        "## Redefinirea obiectelor folosite in timpul antrenarii pentru reteaua LeNet\n",
        "\n",
        "### Cerinta\n",
        " * Redefiniti obiectele pentru a antrena reteaua LeNet"
      ]
    },
    {
      "cell_type": "code",
      "metadata": {
        "id": "jhqNoDmQo66c"
      },
      "source": [
        "import torch.optim as optim\n",
        "\n",
        "# Definiti numarul de epoci\n",
        "epochs = 10\n",
        "\n",
        "# Definiti reteaua\n",
        "lenet = LeNet()\n",
        "\n",
        "# Definiti optimizatorul\n",
        "lenet_optimizer = optimizer = optim.SGD(network.parameters(), lr=1e-2)\n",
        "# Dupa definirea optimizatorului si dupa fiecare iteratie trebuie apelata functia zero_grad().\n",
        "# Aceasta face toti gradientii zero.\n",
        "# Completati codul pentru a face gradientii zero aici\n",
        "optimizer.zero_grad()\n",
        "\n",
        "# Definiti functia cost pentru clasificare Cross-Entropy\n",
        "loss_fn = nn.CrossEntropyLoss()\n"
      ],
      "execution_count": null,
      "outputs": []
    },
    {
      "cell_type": "markdown",
      "metadata": {
        "id": "hwIQwUQpo_eR"
      },
      "source": [
        "## Antrenarea retelei LeNet"
      ]
    },
    {
      "cell_type": "code",
      "metadata": {
        "id": "UUl8W42do_sL",
        "colab": {
          "base_uri": "https://localhost:8080/"
        },
        "outputId": "e4a08248-66c7-4699-c012-25bfca8f53b6"
      },
      "source": [
        "train_fn(epochs, train_loader, test_loader, lenet, loss_fn, lenet_optimizer)"
      ],
      "execution_count": null,
      "outputs": [
        {
          "output_type": "stream",
          "text": [
            "/usr/local/lib/python3.7/dist-packages/ipykernel_launcher.py:40: UserWarning: Implicit dimension choice for softmax has been deprecated. Change the call to include dim=X as an argument.\n"
          ],
          "name": "stderr"
        },
        {
          "output_type": "stream",
          "text": [
            "Loss-ul la finalul epocii 0 are valoarea 2.302382230758667\n",
            "Acuratetea la finalul epocii 0 este 10.88%\n",
            "Loss-ul la finalul epocii 1 are valoarea 2.303309679031372\n",
            "Acuratetea la finalul epocii 1 este 10.88%\n",
            "Loss-ul la finalul epocii 2 are valoarea 2.3019018173217773\n",
            "Acuratetea la finalul epocii 2 este 10.88%\n",
            "Loss-ul la finalul epocii 3 are valoarea 2.303027391433716\n",
            "Acuratetea la finalul epocii 3 este 10.88%\n",
            "Loss-ul la finalul epocii 4 are valoarea 2.302363872528076\n",
            "Acuratetea la finalul epocii 4 este 10.88%\n",
            "Loss-ul la finalul epocii 5 are valoarea 2.302241563796997\n",
            "Acuratetea la finalul epocii 5 este 10.88%\n",
            "Loss-ul la finalul epocii 6 are valoarea 2.302755355834961\n",
            "Acuratetea la finalul epocii 6 este 10.88%\n",
            "Loss-ul la finalul epocii 7 are valoarea 2.3027420043945312\n",
            "Acuratetea la finalul epocii 7 este 10.88%\n",
            "Loss-ul la finalul epocii 8 are valoarea 2.3024978637695312\n",
            "Acuratetea la finalul epocii 8 este 10.88%\n",
            "Loss-ul la finalul epocii 9 are valoarea 2.302110433578491\n",
            "Acuratetea la finalul epocii 9 este 10.88%\n"
          ],
          "name": "stdout"
        }
      ]
    },
    {
      "cell_type": "markdown",
      "metadata": {
        "id": "OspDtfFnTodr"
      },
      "source": [
        "###Augmentare retea\n",
        "\n",
        "Reteaua de mai devreme duce lipsa de regularizare. O forma foarte puternica de regularizare este normalizarea, iar pentru acest lucru exista straturi speciale.\n",
        "\n",
        "Astfel de straturi:\n",
        "\n",
        "* torch.nn.BatchNorm2d(num_features)\n",
        "* torch.nn.InstanceNorm2d(num_features)\n",
        "\n",
        "Un alt element important il reprezinta functiile de activare, care pot influenta convergenta si puterea retelei. Cateva exemple de functii de activate:\n",
        "\n",
        "\n",
        "* Relu\n",
        "* Sigmoid\n",
        "* Tanh\n",
        "* LeakyRelu\n",
        "* GELU\n",
        "\n",
        "## Cerinta\n",
        "\n",
        "**(2p)** Experimentati cu aceste elemente in cadrul retelei LeNet definita mai devreme, pentru a obtine o acuratete mai buna. Observati viteza de convergenta si performanta retelei pentru 3 configuratii diferite.\n",
        "\n",
        "\n",
        "###Bonus\n",
        "**(1p)** Antrenati reteaua folosind GPU (Graphics processing unit)\n",
        "\n",
        "\n",
        "\n",
        "\n",
        "\n",
        "\n",
        "\n",
        "\n",
        "  \n"
      ]
    }
  ]
}